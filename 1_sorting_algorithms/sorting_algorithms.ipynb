{
 "cells": [
  {
   "attachments": {},
   "cell_type": "markdown",
   "id": "8935bd88-eb4c-42cd-9922-564430109ed5",
   "metadata": {},
   "source": [
    "# Sıralama Algoritmaları"
   ]
  },
  {
   "cell_type": "code",
   "execution_count": 2,
   "id": "7dcccb53-f753-4abe-a484-8325dee981fe",
   "metadata": {},
   "outputs": [],
   "source": [
    "import pandas as pd\n",
    "import numpy as np\n",
    "import random\n",
    "import sorting\n"
   ]
  },
  {
   "cell_type": "code",
   "execution_count": 340,
   "id": "f8e2f1f7-0335-413d-8866-a37e084707c5",
   "metadata": {},
   "outputs": [
    {
     "name": "stdout",
     "output_type": "stream",
     "text": [
      "\n",
      "Orijinal veri seti: \n",
      "[67, 32, 36, 71, 67, 3, 53, 27, 89, 46, 67, 53, 10, 9, 90, 42, 4, 45, 96, 57]\n"
     ]
    }
   ],
   "source": [
    "veri = [random.randint(1,100) for _ in range(20)]\n",
    "print(\"\\nOrijinal veri seti: \")\n",
    "print(veri)\n"
   ]
  },
  {
   "attachments": {},
   "cell_type": "markdown",
   "id": "cdb3f5dc-ea00-460c-a153-6ddead5181c6",
   "metadata": {},
   "source": [
    "## 1. Bubble sort"
   ]
  },
  {
   "cell_type": "code",
   "execution_count": 357,
   "id": "4482deaf-1a10-40f9-9c2c-9e1b519b972e",
   "metadata": {},
   "outputs": [
    {
     "name": "stdout",
     "output_type": "stream",
     "text": [
      "\n",
      "Bubble Sort:\n",
      "[3, 4, 9, 10, 27, 32, 36, 42, 45, 46, 53, 53, 57, 67, 67, 67, 71, 89, 90, 96]\n"
     ]
    }
   ],
   "source": [
    "# Kütüphane kullanarak bubble sort\n",
    "\n",
    "bubble_sorted = veri.copy()\n",
    "sorting.bubble(bubble_sorted)\n",
    "print(\"\\nBubble Sort:\")\n",
    "print(bubble_sorted)\n"
   ]
  },
  {
   "cell_type": "code",
   "execution_count": 358,
   "id": "ab990158",
   "metadata": {},
   "outputs": [
    {
     "name": "stdout",
     "output_type": "stream",
     "text": [
      "\n",
      "Bubble Sort:\n",
      "[3, 4, 9, 10, 27, 32, 36, 42, 45, 46, 53, 53, 57, 67, 67, 67, 71, 89, 90, 96]\n"
     ]
    }
   ],
   "source": [
    "# Fonksiyon yazarak bubble sort\n",
    "\n",
    "def bubble_sort(arr):\n",
    "\tn = len(arr)\n",
    "\tfor i in range(n-1):\n",
    "\t\tfor j in range(0,n-i-1):\n",
    "\t\t\tif arr[j] > arr[j+1]:\n",
    "\t\t\t\tarr[j],  arr[j+1] = arr[j+1], arr[j]\n",
    "\n",
    "bubble_sorted_2 = veri.copy()\n",
    "bubble_sort(bubble_sorted_2)\n",
    "print(\"\\nBubble Sort:\")\n",
    "print(bubble_sorted_2)\n"
   ]
  },
  {
   "attachments": {},
   "cell_type": "markdown",
   "id": "37529c5c-cb71-42bb-8a5d-64f5b310e077",
   "metadata": {},
   "source": [
    "## 2. Selection Sort"
   ]
  },
  {
   "cell_type": "code",
   "execution_count": 359,
   "id": "8f250a4b-7327-4fc5-82fc-ff97059cfb75",
   "metadata": {},
   "outputs": [
    {
     "name": "stdout",
     "output_type": "stream",
     "text": [
      "\n",
      "Selection Sort: \n",
      "[3, 4, 9, 10, 27, 32, 36, 42, 45, 46, 53, 53, 57, 67, 67, 67, 71, 89, 90, 96]\n"
     ]
    }
   ],
   "source": [
    "# Kütüphane kullanarak selection sort\n",
    "\n",
    "selection_sorted = veri.copy()\n",
    "sorting.selection(selection_sorted)\n",
    "print(\"\\nSelection Sort: \")\n",
    "print(selection_sorted)\n"
   ]
  },
  {
   "cell_type": "code",
   "execution_count": 360,
   "id": "c6057d8c-7f5d-4dd6-acd3-9910bf7d95cd",
   "metadata": {},
   "outputs": [
    {
     "name": "stdout",
     "output_type": "stream",
     "text": [
      "\n",
      "Selection Sort:\n",
      "[3, 4, 9, 10, 27, 32, 36, 42, 45, 46, 53, 53, 57, 67, 67, 67, 71, 89, 90, 96]\n"
     ]
    }
   ],
   "source": [
    "# Fonksiyon yazarak selection sort\n",
    "\n",
    "def selection_sort(arr):\n",
    "\tn = len(arr)\n",
    "\tfor i in range(n - 1):\n",
    "\t\tsmallest_index = i\n",
    "\t\tfor j in range(i + 1, n):\n",
    "\t\t\tif arr[j] < arr[smallest_index]:\n",
    "\t\t\t\tsmallest_index = j\n",
    "\t\tarr[i], arr[smallest_index] = arr[smallest_index], arr[i]\n",
    "\n",
    "selection_sorted_2 = veri.copy()\n",
    "selection_sort(selection_sorted_2)\n",
    "print(\"\\nSelection Sort:\")\n",
    "print(selection_sorted_2)\n"
   ]
  },
  {
   "attachments": {},
   "cell_type": "markdown",
   "id": "cd9c4f2e",
   "metadata": {},
   "source": [
    "## 3. Insertion Sort"
   ]
  },
  {
   "cell_type": "code",
   "execution_count": 361,
   "id": "43268901",
   "metadata": {},
   "outputs": [
    {
     "name": "stdout",
     "output_type": "stream",
     "text": [
      "\n",
      "Insertion Sort:\n",
      "[3, 4, 9, 10, 27, 32, 36, 42, 45, 46, 53, 53, 57, 67, 67, 67, 71, 89, 90, 96]\n"
     ]
    }
   ],
   "source": [
    "# Fonksiyon yazarak insertion sort\n",
    "\n",
    "def insertion_sort(arr):\n",
    "\tfor i in range(1, len(arr)):\n",
    "\t\tcurrent_element = arr[i]\n",
    "\t\tj = i - 1\n",
    "\t\twhile j >= 0 and arr[j] > current_element:\n",
    "\t\t\tarr[j + 1] = arr[j]\n",
    "\t\t\tj -= 1\n",
    "\t\tarr[j + 1] = current_element\n",
    "\n",
    "insertion = veri.copy()\n",
    "insertion_sort(insertion)\n",
    "print(\"\\nInsertion Sort:\")\n",
    "print(insertion)\n"
   ]
  },
  {
   "attachments": {},
   "cell_type": "markdown",
   "id": "4135e7ef",
   "metadata": {},
   "source": [
    "## 4. Quick Sort"
   ]
  },
  {
   "cell_type": "code",
   "execution_count": 362,
   "id": "5a69d09c",
   "metadata": {},
   "outputs": [
    {
     "name": "stdout",
     "output_type": "stream",
     "text": [
      "\n",
      "Quick Sort: \n",
      "[3, 4, 9, 10, 27, 32, 36, 42, 45, 46, 53, 53, 57, 67, 67, 67, 71, 89, 90, 96]\n"
     ]
    }
   ],
   "source": [
    "# Kütüphane kullanarak quick sort\n",
    "\n",
    "quick_sorted = veri.copy()\n",
    "sorting.quick(quick_sorted)\n",
    "print(\"\\nQuick Sort: \")\n",
    "print(quick_sorted)\n"
   ]
  },
  {
   "cell_type": "code",
   "execution_count": 363,
   "id": "9ae33113",
   "metadata": {},
   "outputs": [
    {
     "name": "stdout",
     "output_type": "stream",
     "text": [
      "\n",
      "Quick Sort:\n",
      "[3, 4, 9, 10, 27, 32, 36, 42, 45, 46, 53, 53, 57, 67, 67, 67, 71, 89, 90, 96]\n"
     ]
    }
   ],
   "source": [
    "# Fonksiyon kullanarak quick sort\n",
    "\n",
    "def quick_sort(arr):\n",
    "\tif len(arr) <= 1:\n",
    "\t\treturn arr\n",
    "\tpivot = arr[0]\n",
    "\tless = [x for x in arr[1:] if x < pivot]\n",
    "\tgreater = [x for x in arr[1:] if x >= pivot]\n",
    "\treturn quick_sort(less) + [pivot] + quick_sort(greater)\n",
    "\n",
    "quick_sorted_2 = veri.copy()\n",
    "quick_sorted_2 = quick_sort(quick_sorted_2)\n",
    "print(\"\\nQuick Sort:\")\n",
    "print(quick_sorted_2)\n"
   ]
  },
  {
   "attachments": {},
   "cell_type": "markdown",
   "id": "fa55ad7a",
   "metadata": {},
   "source": [
    "## 5. Merge Sort"
   ]
  },
  {
   "cell_type": "code",
   "execution_count": 364,
   "id": "c90cafff",
   "metadata": {},
   "outputs": [
    {
     "name": "stdout",
     "output_type": "stream",
     "text": [
      "\n",
      "Merge Sort:\n",
      "[3, 4, 9, 10, 27, 32, 36, 42, 45, 46, 53, 53, 57, 67, 67, 67, 71, 89, 90, 96]\n"
     ]
    }
   ],
   "source": [
    "# Kütüphane kullanarak merge sort\n",
    "\n",
    "merge_sorted = veri.copy()\n",
    "merge_sorted = sorting.merge(merge_sorted)\n",
    "print(\"\\nMerge Sort:\")\n",
    "print(merge_sorted)"
   ]
  },
  {
   "cell_type": "code",
   "execution_count": 366,
   "id": "a7635568",
   "metadata": {},
   "outputs": [
    {
     "name": "stdout",
     "output_type": "stream",
     "text": [
      "\n",
      "Merge Sort:\n",
      "[3, 4, 9, 10, 27, 32, 36, 42, 45, 46, 53, 53, 57, 67, 67, 67, 71, 89, 90, 96]\n"
     ]
    }
   ],
   "source": [
    "# Fonksiyon kullanarak merge sort\n",
    "\n",
    "def merge_sort(arr):\n",
    "\tif len(arr) <= 1:\n",
    "\t\treturn arr\n",
    "\tmid = len(arr) // 2\n",
    "\n",
    "\tleft_half = arr[:mid]\n",
    "\tright_half = arr[mid:]\n",
    "\tleft_half = merge_sort(left_half)\n",
    "\tright_half = merge_sort(right_half)\n",
    "\n",
    "\treturn merge(left_half, right_half)\n",
    "\n",
    "def merge(left, right):\n",
    "\tresult = []\n",
    "\tleft_index, right_index = 0, 0\n",
    "\n",
    "\twhile left_index < len(left) and right_index < len(right):\n",
    "\t\tif left[left_index] < right[right_index]:\n",
    "\t\t\tresult.append(left[left_index])\n",
    "\t\t\tleft_index += 1\n",
    "\t\telse:\n",
    "\t\t\tresult.append(right[right_index])\n",
    "\t\t\tright_index += 1\n",
    "\n",
    "\tresult.extend(left[left_index:])\n",
    "\tresult.extend(right[right_index:])\n",
    "\n",
    "\treturn result\n",
    "\n",
    "merge_sorted_2 = veri.copy()\n",
    "merge_sorted_2 = merge_sort(veri)\n",
    "print(\"\\nMerge Sort:\")\n",
    "print(merge_sorted_2)\n"
   ]
  },
  {
   "attachments": {},
   "cell_type": "markdown",
   "id": "6caa4442",
   "metadata": {},
   "source": [
    "# 6. Heap Sort"
   ]
  },
  {
   "cell_type": "code",
   "execution_count": 368,
   "id": "a83ecc12",
   "metadata": {},
   "outputs": [
    {
     "name": "stdout",
     "output_type": "stream",
     "text": [
      "\n",
      "Heap Sort:\n",
      "[3, 4, 9, 10, 27, 32, 36, 42, 45, 46, 53, 53, 57, 67, 67, 67, 71, 89, 90, 96]\n"
     ]
    }
   ],
   "source": [
    "# Kütüphane kullanarak heap sort\n",
    "\n",
    "heap_sorted = veri.copy()\n",
    "heap_sorted = sorting.maxheap(heap_sorted)\n",
    "print(\"\\nHeap Sort:\")\n",
    "print(heap_sorted)"
   ]
  },
  {
   "cell_type": "code",
   "execution_count": 369,
   "id": "84084a79",
   "metadata": {},
   "outputs": [
    {
     "name": "stdout",
     "output_type": "stream",
     "text": [
      "\n",
      "Heap Sort:\n",
      "[3, 4, 9, 10, 27, 32, 36, 42, 45, 46, 53, 53, 57, 67, 67, 67, 71, 89, 90, 96]\n"
     ]
    }
   ],
   "source": [
    "# Fonksiyon kullanarak heap sort\n",
    "\n",
    "def heapify(arr, n, i):\n",
    "\tlargest = i\n",
    "\tleft = 2 * i + 1\n",
    "\tright = 2 * i + 2\n",
    "\n",
    "\tif left < n and arr[left] > arr[largest]:\n",
    "\t\tlargest = left\n",
    "\n",
    "\tif right < n and arr[right] > arr[largest]:\n",
    "\t\tlargest = right \n",
    "\n",
    "\tif largest != i:\n",
    "\t\tarr[i], arr[largest] = arr[largest], arr[i]\n",
    "\t\theapify(arr, n, largest)\n",
    "\n",
    "def heapsort(arr):\n",
    "\tn = len(arr)\n",
    "\n",
    "\t# Build a heap.\n",
    "\tfor i in range(n // 2, -1, -1):\n",
    "\t\theapify(arr, n, i)\n",
    "\n",
    "\t# Sort the array.\n",
    "\tfor i in range(n - 1, 0, -1):\n",
    "\t\tarr[0], arr[i] = arr[i], arr[0]\n",
    "\t\theapify(arr, i, 0)\n",
    "\n",
    "\treturn arr\n",
    "\n",
    "heap_sorted_2 = veri.copy()\n",
    "heap_sorted_2 = heapsort(heap_sorted_2)\n",
    "print(\"\\nHeap Sort:\")\n",
    "print(heap_sorted_2)\n"
   ]
  },
  {
   "attachments": {},
   "cell_type": "markdown",
   "id": "6a6fe0d0",
   "metadata": {},
   "source": [
    "# 7. Counting Sort"
   ]
  },
  {
   "cell_type": "code",
   "execution_count": 370,
   "id": "41ed7555",
   "metadata": {},
   "outputs": [
    {
     "name": "stdout",
     "output_type": "stream",
     "text": [
      "\n",
      "Counting Sort:\n",
      "[3, 4, 9, 10, 27, 32, 36, 42, 45, 46, 53, 53, 57, 67, 67, 67, 71, 89, 90, 96]\n"
     ]
    }
   ],
   "source": [
    "# Kütüphane kullanarak counting sort\n",
    "\n",
    "counting_sorted = veri.copy()\n",
    "counting_sorted = sorting.counting(counting_sorted)\n",
    "print(\"\\nCounting Sort:\")\n",
    "print(counting_sorted)"
   ]
  },
  {
   "cell_type": "code",
   "execution_count": 371,
   "id": "3b2df2b6",
   "metadata": {},
   "outputs": [
    {
     "name": "stdout",
     "output_type": "stream",
     "text": [
      "\n",
      "Counting Sort:\n",
      "[3, 4, 9, 10, 27, 32, 36, 42, 45, 46, 53, 53, 57, 67, 67, 67, 71, 89, 90, 96]\n"
     ]
    }
   ],
   "source": [
    "# Fonksiyon kullanarak counting sort\n",
    "\n",
    "def counting_sort(arr):\n",
    "\tmax_value = max(arr)\n",
    "\tmin_value = min(arr)\n",
    "\trange_of_elements = max_value - min_value + 1\n",
    "\n",
    "\tcount_array = [0] * range_of_elements\n",
    "\n",
    "\tfor element in arr:\n",
    "\t\tcount_array[element - min_value] += 1\n",
    "\n",
    "\tsorted_arr = []\n",
    "\tfor i in range(range_of_elements):\n",
    "\t\tfor j in range(count_array[i]):\n",
    "\t\t\tsorted_arr.append(i + min_value)\n",
    "\n",
    "\treturn sorted_arr\n",
    "\n",
    "counting_sorted_2 = veri.copy()\n",
    "counting_sorted_2 = counting_sort(counting_sorted_2)\n",
    "print(\"\\nCounting Sort:\")\n",
    "print(counting_sorted_2)\n"
   ]
  },
  {
   "attachments": {},
   "cell_type": "markdown",
   "id": "1d57b0fa",
   "metadata": {},
   "source": [
    "# 8. Radix Sort"
   ]
  },
  {
   "cell_type": "code",
   "execution_count": 372,
   "id": "23d385d5",
   "metadata": {},
   "outputs": [
    {
     "name": "stdout",
     "output_type": "stream",
     "text": [
      "\n",
      "Radix Sort:\n",
      "[3, 4, 9, 10, 27, 32, 36, 42, 45, 46, 53, 53, 57, 67, 67, 67, 71, 89, 90, 96]\n"
     ]
    }
   ],
   "source": [
    "# Kütüphane kullanarak radix sort\n",
    "\n",
    "radix_sorted = veri.copy()\n",
    "radix_sorted = sorting.radix(radix_sorted)\n",
    "print(\"\\nRadix Sort:\")\n",
    "print(radix_sorted)"
   ]
  },
  {
   "cell_type": "code",
   "execution_count": 373,
   "id": "15b751c6",
   "metadata": {},
   "outputs": [
    {
     "name": "stdout",
     "output_type": "stream",
     "text": [
      "\n",
      "Radix Sort:\n",
      "[3, 4, 9, 10, 27, 32, 36, 42, 45, 46, 53, 53, 57, 67, 67, 67, 71, 89, 90, 96]\n"
     ]
    }
   ],
   "source": [
    "# Fonksiyon kullanarak radix sort\n",
    "\n",
    "def radix_sort(arr):\n",
    "\tmax_value = max(arr)\n",
    "\texp = 1\n",
    "\n",
    "\twhile max_value // exp > 0:\n",
    "\t\tcounting_sort_by_digit(arr, exp)\n",
    "\t\texp *= 10\n",
    "\n",
    "def counting_sort_by_digit(arr, exp):\n",
    "\tn = len(arr)\n",
    "\toutput = [0] * n\n",
    "\tcount = [0] * 10\n",
    "\n",
    "\tfor i in range(n):\n",
    "\t\tindex = (arr[i] // exp) % 10\n",
    "\t\tcount[index] += 1\n",
    "\n",
    "\tfor i in range(1, 10):\n",
    "\t\tcount[i] += count[i - 1]\n",
    "\n",
    "\ti = n - 1\n",
    "\twhile i >= 0:\n",
    "\t\tindex = (arr[i] // exp) % 10\n",
    "\t\toutput[count[index] - 1] = arr[i]\n",
    "\t\tcount[index] -= 1\n",
    "\t\ti -= 1\n",
    "\n",
    "\tfor i in range(n):\n",
    "\t\tarr[i] = output[i]\n",
    "\n",
    "radix_sorted_2 = veri.copy()\n",
    "radix_sort(radix_sorted_2)\n",
    "print(\"\\nRadix Sort:\")\n",
    "print(radix_sorted_2)\n"
   ]
  },
  {
   "attachments": {},
   "cell_type": "markdown",
   "id": "fb00f3de",
   "metadata": {},
   "source": [
    "# 9. Topological Sort"
   ]
  },
  {
   "cell_type": "code",
   "execution_count": 374,
   "id": "b74116a1",
   "metadata": {},
   "outputs": [
    {
     "name": "stdout",
     "output_type": "stream",
     "text": [
      "\n",
      "Topological Sort:\n",
      "['Güneş', 'Venüs', 'Satürn', 'Mars', 'Merkür', 'Dünya', 'Jüpiter', 'Titan', 'Ay', 'Europa', 'Io']\n"
     ]
    }
   ],
   "source": [
    "def topological_sort(graph):\n",
    "\tin_degree = {}\n",
    "\tfor vertex in graph:\n",
    "\t\tin_degree[vertex] = 0\n",
    "\n",
    "\tfor vertex in graph:\n",
    "\t\tfor neighbor in graph[vertex]:\n",
    "\t\t\tin_degree[neighbor] += 1\n",
    "\n",
    "\tqueue = []\n",
    "\tfor vertex in graph:\n",
    "\t\tif in_degree[vertex] == 0:\n",
    "\t\t\tqueue.append(vertex)\n",
    "\n",
    "\tsorted_vertices = []\n",
    "\twhile queue:\n",
    "\t\tvertex = queue.pop(0)\n",
    "\t\tsorted_vertices.append(vertex)\n",
    "\n",
    "\t\tfor neighbor in graph[vertex]:\n",
    "\t\t\tin_degree[neighbor] -= 1\n",
    "\t\t\tif in_degree[neighbor] == 0:\n",
    "\t\t\t\tqueue.append(neighbor)\n",
    "\n",
    "\treturn sorted_vertices\n",
    "\n",
    "\n",
    "\n",
    "space_graph = {\t'Güneş': {'Merkür', 'Venüs', 'Dünya', 'Mars', 'Jüpiter', 'Satürn'},\n",
    "\t\t\t\t'Merkür': {},\n",
    "\t\t\t\t'Venüs': {},\n",
    "\t\t\t\t'Dünya': {'Ay'},\n",
    "\t\t\t\t'Mars': {},\n",
    "\t\t\t\t'Jüpiter': {'Io', 'Europa'},\n",
    "\t\t\t\t'Satürn': {'Titan'},\n",
    "\t\t\t\t'Ay': {},\n",
    "\t\t\t\t'Io': {},\n",
    "\t\t\t\t'Europa': {},\n",
    "\t\t\t\t'Titan': {}\t}\n",
    "\n",
    "topological_sorted = topological_sort(space_graph)\n",
    "print(\"\\nTopological Sort:\")\n",
    "print(topological_sorted)\n",
    "\n"
   ]
  },
  {
   "cell_type": "code",
   "execution_count": null,
   "id": "72629d72",
   "metadata": {},
   "outputs": [],
   "source": []
  }
 ],
 "metadata": {
  "kernelspec": {
   "display_name": "Python 3 (ipykernel)",
   "language": "python",
   "name": "python3"
  },
  "language_info": {
   "codemirror_mode": {
    "name": "ipython",
    "version": 3
   },
   "file_extension": ".py",
   "mimetype": "text/x-python",
   "name": "python",
   "nbconvert_exporter": "python",
   "pygments_lexer": "ipython3",
   "version": "3.10.9"
  }
 },
 "nbformat": 4,
 "nbformat_minor": 5
}
